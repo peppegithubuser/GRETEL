{
 "cells": [
  {
   "cell_type": "code",
   "execution_count": 1,
   "metadata": {},
   "outputs": [
    {
     "data": {
      "text/plain": [
       "'/Users/stilo/CODE/GRETEL@AIIM'"
      ]
     },
     "execution_count": 1,
     "metadata": {},
     "output_type": "execute_result"
    }
   ],
   "source": [
    "import sys\n",
    "import os\n",
    "module_path = os.path.abspath(os.path.join('..'))\n",
    "sys.path.append(module_path)\n",
    "module_path"
   ]
  },
  {
   "cell_type": "code",
   "execution_count": 2,
   "metadata": {},
   "outputs": [],
   "source": [
    "os.chdir(module_path)"
   ]
  },
  {
   "cell_type": "code",
   "execution_count": 3,
   "metadata": {},
   "outputs": [],
   "source": [
    "from src.evaluation.evaluator_manager import EvaluatorManager\n",
    "from src.evaluation.evaluator_manager_do import EvaluatorManager as PairedEvaluatorManager\n",
    "\n",
    "from src.utils.context import Context\n",
    "import sys"
   ]
  },
  {
   "cell_type": "code",
   "execution_count": 4,
   "metadata": {},
   "outputs": [],
   "source": [
    "config_f_name = 'AAAI.json'"
   ]
  },
  {
   "cell_type": "code",
   "execution_count": 5,
   "metadata": {},
   "outputs": [
    {
     "name": "stdout",
     "output_type": "stream",
     "text": [
      "Generating context for: /Users/stilo/CODE/GRETEL@AIIM/lab/config/1-ASD_ASD-Custom_OBS.jsonc\n",
      "2024-02-21 05:32:36,-907026868 | INFO | 14138 - Executing: /Users/stilo/CODE/GRETEL@AIIM/lab/config/1-ASD_ASD-Custom_OBS.jsonc Run: 1\n",
      "2024-02-21 05:32:36,-907026852 | INFO | 14138 - Creating the evaluation manager....................................\n",
      "2024-02-21 05:32:36,-907026814 | INFO | 14138 - Creating the paired  evaluators.....................................\n",
      "2024-02-21 05:32:37,-907026765 | INFO | 14138 - Creating: ASD-15273954d84e872cf0b021cd4477bfdc\n",
      "2024-02-21 05:32:37,-907026764 | INFO | 14138 - Instantiating: src.dataset.generators.asd.ASD\n",
      "2024-02-21 05:32:37,-907026206 | INFO | 14138 - Saved: ASD-15273954d84e872cf0b021cd4477bfdc\n",
      "2024-02-21 05:32:37,-907026183 | INFO | 14138 - Created: ASD-15273954d84e872cf0b021cd4477bfdc\n",
      "2024-02-21 05:32:37,-907026146 | INFO | 14138 - Creating: ASDOracle-9e4f3586dc330143b7849fc540b25739\n",
      "2024-02-21 05:32:37,-907026125 | INFO | 14138 - ASDOracle trained in: 0.020142793655395508 secs\n",
      "2024-02-21 05:32:37,-907026098 | INFO | 14138 - Saved: ASDOracle-9e4f3586dc330143b7849fc540b25739\n",
      "2024-02-21 05:32:37,-907026077 | INFO | 14138 - Created: ASDOracle-9e4f3586dc330143b7849fc540b25739\n",
      "2024-02-21 05:32:37,-907026072 | INFO | 14138 - Instantiating: src.explainer.heuristic.obs_dist.ObliviousBidirectionalDistance\n",
      "2024-02-21 05:32:37,-907026049 | INFO | 14138 - Created: ObliviousBidirectionalSearchExplainer-a9d745213c8e6f7a3fd96e175dabab07\n",
      "2024-02-21 05:32:37,-907026028 | INFO | 14138 - Evaluating the explainers.............................................................\n",
      "2024-02-21 05:32:37,-907026027 | INFO | 14138 - Evaluating instance with id 1\n",
      "2024-02-21 05:32:38,-907024821 | INFO | 14138 - evaluated instance with id 1\n",
      "2024-02-21 05:32:38,-907024820 | INFO | 14138 - Evaluating instance with id 5\n",
      "2024-02-21 05:32:39,-907023883 | INFO | 14138 - evaluated instance with id 5\n",
      "2024-02-21 05:32:39,-907023882 | INFO | 14138 - Evaluating instance with id 10\n",
      "2024-02-21 05:32:40,-907023428 | INFO | 14138 - evaluated instance with id 10\n",
      "2024-02-21 05:32:40,-907023427 | INFO | 14138 - Evaluating instance with id 11\n",
      "2024-02-21 05:32:41,-907022490 | INFO | 14138 - evaluated instance with id 11\n",
      "2024-02-21 05:32:41,-907022489 | INFO | 14138 - Evaluating instance with id 12\n",
      "2024-02-21 05:32:42,-907021795 | INFO | 14138 - evaluated instance with id 12\n",
      "2024-02-21 05:32:42,-907021794 | INFO | 14138 - Evaluating instance with id 47\n",
      "2024-02-21 05:32:42,-907021617 | INFO | 14138 - evaluated instance with id 47\n",
      "2024-02-21 05:32:42,-907021617 | INFO | 14138 - Evaluating instance with id 64\n",
      "2024-02-21 05:32:43,-907020749 | INFO | 14138 - evaluated instance with id 64\n",
      "2024-02-21 05:32:43,-907020748 | INFO | 14138 - Evaluating instance with id 86\n",
      "2024-02-21 05:32:44,-907019290 | INFO | 14138 - evaluated instance with id 86\n",
      "2024-02-21 05:32:44,-907019289 | INFO | 14138 - Evaluating instance with id 94\n",
      "2024-02-21 05:32:44,-907018944 | INFO | 14138 - evaluated instance with id 94\n",
      "2024-02-21 05:32:44,-907018942 | INFO | 14138 - Evaluating instance with id 97\n",
      "2024-02-21 05:32:45,-907018599 | INFO | 14138 - evaluated instance with id 97\n",
      "2024-02-21 05:32:45,-907018598 | INFO | 14138 - Evaluating instance with id 99\n",
      "2024-02-21 05:32:45,-907018275 | INFO | 14138 - evaluated instance with id 99\n",
      "2024-02-21 05:32:45,-907018274 | INFO | 14138 - {'src.evaluation.evaluation_metric_runtime.RuntimeMetric': [{'id': '1', 'value': 1.1627509593963623}, {'id': '5', 'value': 0.8930361270904541}, {'id': '10', 'value': 0.4113731384277344}, {'id': '11', 'value': 0.8900160789489746}, {'id': '12', 'value': 0.6511719226837158}, {'id': '47', 'value': 0.13413500785827637}, {'id': '64', 'value': 0.8155748844146729}, {'id': '86', 'value': 1.41420316696167}, {'id': '94', 'value': 0.3028087615966797}, {'id': '97', 'value': 0.2968719005584717}, {'id': '99', 'value': 0.2796061038970947}], 'src.evaluation.evaluation_metric_ged.GraphEditDistanceMetric': [{'id': '1', 'value': 13.0}, {'id': '5', 'value': 11.0}, {'id': '10', 'value': 2.0}, {'id': '11', 'value': 7.0}, {'id': '12', 'value': 1.0}, {'id': '47', 'value': 1.0}, {'id': '64', 'value': 8.0}, {'id': '86', 'value': 22.0}, {'id': '94', 'value': 3.0}, {'id': '97', 'value': 1.0}, {'id': '99', 'value': 1.0}], 'src.evaluation.evaluation_metric_oracle_calls.OracleCallsMetric': [{'id': '1', 'value': 415}, {'id': '5', 'value': 313}, {'id': '10', 'value': 141}, {'id': '11', 'value': 396}, {'id': '12', 'value': 385}, {'id': '47', 'value': 25}, {'id': '64', 'value': 318}, {'id': '86', 'value': 471}, {'id': '94', 'value': 82}, {'id': '97', 'value': 105}, {'id': '99', 'value': 72}], 'src.evaluation.evaluation_metric_correctness.CorrectnessMetric': [{'id': '1', 'value': 1}, {'id': '5', 'value': 1}, {'id': '10', 'value': 1}, {'id': '11', 'value': 1}, {'id': '12', 'value': 1}, {'id': '47', 'value': 1}, {'id': '64', 'value': 1}, {'id': '86', 'value': 1}, {'id': '94', 'value': 1}, {'id': '97', 'value': 1}, {'id': '99', 'value': 1}], 'src.evaluation.evaluation_metric_sparsity.SparsityMetric': [{'id': '1', 'value': 0.016774193548387096}, {'id': '5', 'value': 0.014066496163682864}, {'id': '10', 'value': 0.0025974025974025974}, {'id': '11', 'value': 0.008951406649616368}, {'id': '12', 'value': 0.0012953367875647669}, {'id': '47', 'value': 0.001287001287001287}, {'id': '64', 'value': 0.010638297872340425}, {'id': '86', 'value': 0.02838709677419355}, {'id': '94', 'value': 0.00392156862745098}, {'id': '97', 'value': 0.001277139208173691}, {'id': '99', 'value': 0.0012987012987012987}], 'src.evaluation.evaluation_metric_fidelity.FidelityMetric': [{'id': '1', 'value': 1}, {'id': '5', 'value': 1}, {'id': '10', 'value': 1}, {'id': '11', 'value': 1}, {'id': '12', 'value': -1}, {'id': '47', 'value': 1}, {'id': '64', 'value': 1}, {'id': '86', 'value': 1}, {'id': '94', 'value': -1}, {'id': '97', 'value': -1}, {'id': '99', 'value': -1}], 'src.evaluation.evaluation_metric_oracle_accuracy.OracleAccuracyMetric': [{'id': '1', 'value': 1}, {'id': '5', 'value': 1}, {'id': '10', 'value': 1}, {'id': '11', 'value': 1}, {'id': '12', 'value': 0}, {'id': '47', 'value': 1}, {'id': '64', 'value': 1}, {'id': '86', 'value': 1}, {'id': '94', 'value': 0}, {'id': '97', 'value': 0}, {'id': '99', 'value': 0}]}\n"
     ]
    }
   ],
   "source": [
    "config_path = os.path.join(module_path, 'lab', 'config', config_f_name)\n",
    "runno = 1\n",
    "    \n",
    "print(f\"Generating context for: {config_path}\")\n",
    "context = Context.get_context(config_path)\n",
    "context.run_number = runno\n",
    "\n",
    "context.logger.info(f\"Executing: {context.config_file} Run: {context.run_number}\")\n",
    "context.logger.info(\"Creating the evaluation manager....................................\")\n",
    "\n",
    "\n",
    "if 'do-pairs' in context.conf:\n",
    "    context.logger.info(f\"Creating the paired  evaluators.....................................\")\n",
    "    eval_manager = PairedEvaluatorManager(context)\n",
    "else:\n",
    "    context.logger.info(\"Creating the evaluators......................................................\")\n",
    "    eval_manager = EvaluatorManager(context)\n",
    "\n",
    "context.logger.info(\n",
    "    \"Evaluating the explainers.............................................................\"\n",
    ")\n",
    "eval_manager.evaluate()"
   ]
  },
  {
   "cell_type": "code",
   "execution_count": 7,
   "metadata": {},
   "outputs": [
    {
     "name": "stdout",
     "output_type": "stream",
     "text": [
      "2024-02-21 05:32:52,-907011419 | INFO | 14138 - Instantiating: src.evaluation.evaluation_metric_runtime.RuntimeMetric\n",
      "2024-02-21 05:32:52,-907011418 | INFO | 14138 - Instantiating: src.evaluation.evaluation_metric_ged.GraphEditDistanceMetric\n",
      "2024-02-21 05:32:52,-907011417 | INFO | 14138 - Instantiating: src.evaluation.evaluation_metric_oracle_calls.OracleCallsMetric\n",
      "2024-02-21 05:32:52,-907011416 | INFO | 14138 - Instantiating: src.evaluation.evaluation_metric_correctness.CorrectnessMetric\n",
      "2024-02-21 05:32:52,-907011415 | INFO | 14138 - Instantiating: src.evaluation.evaluation_metric_sparsity.SparsityMetric\n",
      "2024-02-21 05:32:52,-907011414 | INFO | 14138 - Instantiating: src.evaluation.evaluation_metric_fidelity.FidelityMetric\n",
      "2024-02-21 05:32:52,-907011413 | INFO | 14138 - Instantiating: src.evaluation.evaluation_metric_oracle_accuracy.OracleAccuracyMetric\n"
     ]
    }
   ],
   "source": [
    "from src.data_analysis.data_analyzer import DataAnalyzer as dan\n",
    "import pandas as pd\n",
    "results_path = os.path.join(module_path, 'lab', 'output', 'results')\n",
    "stats_file_path = os.path.join(module_path, 'lab', 'output', 'results.csv')\n",
    "res = dan.create_aggregated_dataframe_oldstyle(results_path)\n",
    "res.to_csv(stats_file_path)"
   ]
  }
 ],
 "metadata": {
  "kernelspec": {
   "display_name": "XAI39",
   "language": "python",
   "name": "python3"
  },
  "language_info": {
   "codemirror_mode": {
    "name": "ipython",
    "version": 3
   },
   "file_extension": ".py",
   "mimetype": "text/x-python",
   "name": "python",
   "nbconvert_exporter": "python",
   "pygments_lexer": "ipython3",
   "version": "3.9.18"
  }
 },
 "nbformat": 4,
 "nbformat_minor": 2
}
